{
 "cells": [
  {
   "attachments": {},
   "cell_type": "markdown",
   "metadata": {},
   "source": [
    "数据分析和清洗"
   ]
  },
  {
   "cell_type": "code",
   "execution_count": null,
   "metadata": {},
   "outputs": [],
   "source": [
    "import json \n",
    "\n",
    "js = json.load(open(\"data/ner_results_all.json\"))\n",
    "js[0]"
   ]
  },
  {
   "cell_type": "code",
   "execution_count": null,
   "metadata": {},
   "outputs": [],
   "source": [
    "import jsonlines\n",
    "instructions = list(jsonlines.open(\"../instruction_datasets/instruction_dataall.jsonl\"))"
   ]
  },
  {
   "cell_type": "code",
   "execution_count": 2,
   "metadata": {},
   "outputs": [],
   "source": [
    "import pandas as pd\n",
    "df = pd.read_csv(\"./data/umls_kg_filter.csv\")"
   ]
  },
  {
   "cell_type": "code",
   "execution_count": 3,
   "metadata": {},
   "outputs": [
    {
     "name": "stdout",
     "output_type": "stream",
     "text": [
      "source\n",
      "Clinical evaluation                                     16133\n",
      "Surgical action (qualifier value)                       13861\n",
      "Diagnostic intent (qualifier value)                     13300\n",
      "Extension Namespace {1000000} (namespace concept)       10711\n",
      "Skin of body                                            10118\n",
      "INFLAMM                                                  8386\n",
      "Morphologically abnormal structure                       8058\n",
      "Medication Name                                          7977\n",
      "Measurement (qualifier value)                            7790\n",
      "Pathological developmental process (qualifier value)     7753\n",
      "Name: count, dtype: int64\n"
     ]
    },
    {
     "data": {
      "text/plain": [
       "<Axes: >"
      ]
     },
     "execution_count": 3,
     "metadata": {},
     "output_type": "execute_result"
    },
    {
     "data": {
      "image/png": "[encoded data removed]",
      "text/plain": [
       "<Figure size 640x480 with 1 Axes>"
      ]
     },
     "metadata": {},
     "output_type": "display_data"
    }
   ],
   "source": [
    "source_counts = df['source'].value_counts()\n",
    "print(source_counts.head(10))\n",
    "source_counts.hist(bins=100, range=(0,100))"
   ]
  },
  {
   "cell_type": "code",
   "execution_count": 28,
   "metadata": {},
   "outputs": [
    {
     "name": "stdout",
     "output_type": "stream",
     "text": [
      "106503\n",
      "97039\n"
     ]
    }
   ],
   "source": [
    "# filter out rows with source occur more than 5 times\n",
    "filtered_df = df[df['source'].isin(source_counts[source_counts <= 5].index)]\n",
    "print(len(filtered_df))\n",
    "\n",
    "# filter out rows with source equals to target\n",
    "filtered_df = filtered_df[filtered_df['target']!=filtered_df['source']]\n",
    "print(len(filtered_df))\n",
    "\n",
    "filtered_df.to_csv(\"./data/umls_kg_filter_count_5.csv\", index=False)"
   ]
  },
  {
   "cell_type": "code",
   "execution_count": 34,
   "metadata": {},
   "outputs": [
    {
     "data": {
      "text/plain": [
       "edge\n",
       "has finding site                    222618\n",
       "has associated morphology           126676\n",
       "has method                          124943\n",
       "has procedure site                   76044\n",
       "interprets                           71921\n",
       "possibly equivalent to               60997\n",
       "has causative agent                  55257\n",
       "has active ingredient                51121\n",
       "has direct procedure site            45664\n",
       "has pathological process             35034\n",
       "has dose form                        27215\n",
       "has intent                           23260\n",
       "has occurrence                       17473\n",
       "moved to                             16215\n",
       "has interpretation                   14603\n",
       "has direct morphology                12261\n",
       "has direct substance                 11549\n",
       "has direct device                    11348\n",
       "has temporal context                  9815\n",
       "has subject relationship context      9479\n",
       "Name: count, dtype: int64"
      ]
     },
     "execution_count": 34,
     "metadata": {},
     "output_type": "execute_result"
    }
   ],
   "source": [
    "df['edge'].value_counts()"
   ]
  },
  {
   "cell_type": "code",
   "execution_count": null,
   "metadata": {},
   "outputs": [],
   "source": [
    "from tqdm.auto import tqdm\n",
    "import spacy\n",
    "nlp = spacy.load(\"en_core_web_sm\")\n",
    "import random\n",
    "\n",
    "i = random.choice(instructions)\n",
    "prompt = i['input'].strip()+\" \"+i['output'].strip()\n",
    "doc = nlp(prompt)\n",
    "from spacy import displacy\n",
    "displacy.render(doc, style=\"ent\")"
   ]
  },
  {
   "cell_type": "code",
   "execution_count": 1,
   "metadata": {},
   "outputs": [
    {
     "data": {
      "text/plain": [
       "32001"
      ]
     },
     "execution_count": 1,
     "metadata": {},
     "output_type": "execute_result"
    }
   ],
   "source": [
    "import pickle\n",
    "from transformers import AutoTokenizer\n",
    "pkl_name = \"ep_0\"\n",
    "input_ids_list, attention_mask_list, labels_list, hard_position_type_ids_list, prompts_list = pickle.load(open(f'data/EntityDataset_1k/{pkl_name}.pkl','rb'))\n",
    "tok = AutoTokenizer.from_pretrained('/home/cs/yangyuchen/yushengliao/Medical_LLM/FastChat/checkpoints/medical_llama_13b_chatv1.3/checkpoint-4974/')\n",
    "dash_token=\"[DASH]\"\n",
    "tok.add_tokens([dash_token])\n",
    "len(tok)"
   ]
  },
  {
   "cell_type": "code",
   "execution_count": 2,
   "metadata": {},
   "outputs": [],
   "source": [
    "import numpy as np\n",
    "import torch\n",
    "import pandas as pd\n",
    "\n",
    "\n",
    "i = 0\n",
    "input_ids=input_ids_list[i]\n",
    "attention_mask=attention_mask_list[i]\n",
    "labels=labels_list[i]\n",
    "hard_position_type_ids=hard_position_type_ids_list[i]\n",
    "prompt=prompts_list[i]\n",
    "\n",
    "\n",
    "tokens = tok.batch_decode(input_ids)\n",
    "tokens = [t.replace('\\n', '\\\\n') for t in tokens]\n",
    "tokens = [f\"{t}-{int(hard_position_type_ids[i])}-{int(int(labels[i])!=-100)}\" for i,t in enumerate(tokens)]\n",
    "attention_mask = attention_mask.numpy().tolist()\n",
    "attention_mask = [[int(i) for i in row] for row in attention_mask]\n",
    "\n",
    "matrix = attention_mask\n",
    "row_index = tokens\n",
    "col_index = tokens\n",
    "\n",
    "max_row_length = max(len(row) for row in row_index)\n",
    "max_col_length = max(len(col) for col in col_index)\n",
    "\n",
    "# 打开文件\n",
    "with open(f'{pkl_name}_{i}.txt', 'w') as f:\n",
    "    f.write(prompt+ '\\n\\n')\n",
    "    f.write('attention_mask:\\n0:non-entity tokens，1:entity tokens, 2:triplet tokens, 3:triplet target tokens\\n\\n')\n",
    "    # 写入列索引\n",
    "    f.write(\" \" * max_row_length + \"  \" + \"  \".join(col.ljust(max_col_length) for col in col_index) + '\\n')\n",
    "    # 写入行索引和每行的值\n",
    "    for i, row in enumerate(matrix):\n",
    "        f.write(row_index[i].ljust(max_row_length) + \"  \" + \"  \".join(str(val).ljust(max_col_length) for val in row) + '\\n')\n",
    "        \n",
    "# 创建DataFrame对象\n",
    "df = pd.DataFrame(matrix, index=row_index, columns=col_index)\n",
    "\n",
    "# 将DataFrame写入CSV文件\n",
    "df.to_csv(f'{pkl_name}_{i}.csv')"
   ]
  },
  {
   "cell_type": "code",
   "execution_count": null,
   "metadata": {},
   "outputs": [],
   "source": []
  }
 ],
 "metadata": {
  "kernelspec": {
   "display_name": "hug42",
   "language": "python",
   "name": "python3"
  },
  "language_info": {
   "codemirror_mode": {
    "name": "ipython",
    "version": 3
   },
   "file_extension": ".py",
   "mimetype": "text/x-python",
   "name": "python",
   "nbconvert_exporter": "python",
   "pygments_lexer": "ipython3",
   "version": "3.9.16"
  },
  "orig_nbformat": 4
 },
 "nbformat": 4,
 "nbformat_minor": 2
}
