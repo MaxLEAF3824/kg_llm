{
 "cells": [
  {
   "attachments": {},
   "cell_type": "markdown",
   "metadata": {},
   "source": [
    "数据分析和清洗"
   ]
  },
  {
   "cell_type": "code",
   "execution_count": 1,
   "metadata": {},
   "outputs": [
    {
     "name": "stdout",
     "output_type": "stream",
     "text": [
      "Loaded dataset with 20000 elements\n"
     ]
    }
   ],
   "source": [
    "import numpy as np\n",
    "import torch\n",
    "import pandas as pd\n",
    "from transformers import AutoTokenizer\n",
    "import pickle\n",
    "import pandas as pd\n",
    "from entity_dataset2 import EntityDataset\n",
    "\n",
    "tok = AutoTokenizer.from_pretrained(\"/home/cs/yangyuchen/yushengliao/Medical_LLM/FastChat/checkpoints/medical_llama_13b_chatv1.3/checkpoint-4974/\")\n",
    "tok.padding_side = 'right'\n",
    "tok.pad_token = tok.eos_token\n",
    "tok.pad_token_id = tok.eos_token_id\n",
    "tok.add_tokens([\"[DASH]\"])\n",
    "dst = EntityDataset(data_path='data/kg_HealthCareMagic-20k_train.json', kg_path='data/bios_kg_with_def.csv', tokenizer=tok)"
   ]
  },
  {
   "cell_type": "code",
   "execution_count": 2,
   "metadata": {},
   "outputs": [
    {
     "data": {
      "application/vnd.jupyter.widget-view+json": {
       "model_id": "fb5c919d41c940a89bfa71b679e64e32",
       "version_major": 2,
       "version_minor": 0
      },
      "text/plain": [
       "  0%|          | 0/20000 [00:00<?, ?it/s]"
      ]
     },
     "metadata": {},
     "output_type": "display_data"
    }
   ],
   "source": [
    "from tqdm.auto import tqdm\n",
    "\n",
    "input_ids_list, attention_mask_list, labels_list, hard_position_type_ids_list, position_ids_list = dst.make_inputs()"
   ]
  },
  {
   "cell_type": "code",
   "execution_count": 19,
   "metadata": {},
   "outputs": [
    {
     "data": {
      "text/plain": [
       "<Axes: >"
      ]
     },
     "execution_count": 19,
     "metadata": {},
     "output_type": "execute_result"
    },
    {
     "data": {
      "image/png": "[encoded data removed]",
      "text/plain": [
       "<Figure size 640x480 with 1 Axes>"
      ]
     },
     "metadata": {},
     "output_type": "display_data"
    }
   ],
   "source": [
    "import pandas as pd\n",
    "\n",
    "pd.Series(input_ids_list).apply(len).hist(range=(0,4096),bins=2048)"
   ]
  },
  {
   "cell_type": "code",
   "execution_count": null,
   "metadata": {},
   "outputs": [],
   "source": [
    "from pprint import pprint\n",
    "target_index = 1\n",
    "print('target_index: ', target_index)\n",
    "input_ids, attention_mask, labels, hard_position_type_ids, position_ids = dst[target_index]\n",
    "prompt = tok.decode(input_ids)\n",
    "pprint(prompt)\n",
    "print('seq_len: ', input_ids.shape[-1])\n",
    "\n",
    "tokens = tok.batch_decode(input_ids)\n",
    "tokens = [t.replace('\\n', '\\\\n') for t in tokens]\n",
    "tokens = [f\"{t}-{int(hard_position_type_ids[i])}-{position_ids[i]}-{int(int(labels[i])!=-100)}\" for i,t in enumerate(tokens)]\n",
    "attention_mask = attention_mask.numpy().tolist()\n",
    "attention_mask = [[int(i) for i in row] for row in attention_mask]\n",
    "\n",
    "matrix = attention_mask\n",
    "row_index = tokens\n",
    "col_index = tokens\n",
    "\n",
    "max_row_length = max(len(row) for row in row_index)\n",
    "max_col_length = max(len(col) for col in col_index)\n",
    "\n",
    "# 打开文件\n",
    "with open(f'dst_{target_index}.txt', 'w') as f:\n",
    "    f.write(prompt+ '\\n\\n')\n",
    "    f.write('attention_mask:\\n0:non-entity tokens，1:entity tokens, 2:triplet tokens, 3:triplet target tokens\\n\\n')\n",
    "    # 写入列索引\n",
    "    f.write(\" \" * max_row_length + \"  \" + \"  \".join(col.ljust(max_col_length) for col in col_index) + '\\n')\n",
    "    # 写入行索引和每行的值\n",
    "    for j, row in enumerate(matrix):\n",
    "        f.write(row_index[j].ljust(max_row_length) + \"  \" + \"  \".join(str(val).ljust(max_col_length) for val in row) + '\\n')\n",
    "        \n",
    "# 创建DataFrame对象\n",
    "df = pd.DataFrame(matrix, index=row_index, columns=col_index)\n",
    "\n",
    "# 将DataFrame写入CSV文件\n",
    "df.to_csv(f'dst_{target_index}.csv')"
   ]
  },
  {
   "cell_type": "code",
   "execution_count": 6,
   "metadata": {},
   "outputs": [
    {
     "data": {
      "text/plain": [
       "{'input_ids': [1, 960, 1021, 2655, 3799, 1449, 1235, 592, 1073, 29889, 2], 'token_type_ids': [0, 0, 0, 0, 0, 0, 0, 0, 0, 0, 0], 'attention_mask': [1, 1, 1, 1, 1, 1, 1, 1, 1, 1, 1]}"
      ]
     },
     "execution_count": 6,
     "metadata": {},
     "output_type": "execute_result"
    }
   ],
   "source": [
    "tok(\"If same thing happen again let me know. </s>\")"
   ]
  },
  {
   "cell_type": "markdown",
   "metadata": {},
   "source": [
    "# 读取BIOS"
   ]
  },
  {
   "cell_type": "code",
   "execution_count": 1,
   "metadata": {},
   "outputs": [],
   "source": [
    "relations = open(\"data/bios_v2.2_release/CoreData/Relations.txt\").readlines()\n",
    "uni_relations = open(\"data/bios_v2.2_release/CoreData/UniRelations.txt\").readlines()\n",
    "definitions = open(\"data/bios_v2.2_release/CoreData/Definitions.txt\").readlines()\n",
    "concept_terms = open(\"data/bios_v2.2_release/CoreData/ConceptTerms.txt\").readlines()\n",
    "semantic_types = open(\"data/bios_v2.2_release/CoreData/SemanticTypes.txt\").readlines()"
   ]
  },
  {
   "cell_type": "code",
   "execution_count": 5,
   "metadata": {},
   "outputs": [
    {
     "name": "stderr",
     "output_type": "stream",
     "text": [
      "100%|██████████| 55322793/55322793 [03:05<00:00, 297492.47it/s] \n",
      "100%|██████████| 34918237/34918237 [01:13<00:00, 477621.60it/s] \n"
     ]
    }
   ],
   "source": [
    "from collections import defaultdict\n",
    "from tqdm import tqdm\n",
    "\n",
    "concept2term = defaultdict(list)\n",
    "\n",
    "for line in tqdm(concept_terms):\n",
    "    ls = line.strip().split('|')\n",
    "    concept2term[ls[0]].append({'TID': ls[1], 'STR': ls[2]})\n",
    "\n",
    "concept2relations = defaultdict(list)\n",
    "\n",
    "for line in tqdm(uni_relations):\n",
    "    rid, head, tail, relid, rel = line.strip().split(\"|\")\n",
    "    concept2relations[head].append({'TAIL': tail, 'REL':rel})\n",
    "\n",
    "def find_neighbor_by_cid(cid):\n",
    "    print(f\"CID: {cid} \")\n",
    "    for i in concept2term[cid]:\n",
    "        print(f\"TID: {i['TID']} STR: {i['STR']}\")\n",
    "    print(f\"Relations Num: {len(concept2relations[cid])}\")\n",
    "    print(f\"Relations Num: {len(concept2relations[cid])}\")"
   ]
  },
  {
   "cell_type": "code",
   "execution_count": null,
   "metadata": {},
   "outputs": [],
   "source": [
    "cid = \"CN32837053\"\n",
    "find_neighbor_by_cid(cid)"
   ]
  },
  {
   "cell_type": "markdown",
   "metadata": {},
   "source": [
    "# 图分析"
   ]
  },
  {
   "cell_type": "code",
   "execution_count": 2,
   "metadata": {},
   "outputs": [
    {
     "name": "stderr",
     "output_type": "stream",
     "text": [
      "100%|██████████| 34918237/34918237 [00:30<00:00, 1145432.54it/s]\n"
     ]
    }
   ],
   "source": [
    "from tqdm import tqdm\n",
    "import igraph as ig\n",
    "import matplotlib.pyplot as plt\n",
    "\n",
    "nodes = {}\n",
    "\n",
    "for line in tqdm(uni_relations):\n",
    "    rid, head, tail, relid, rel = line.strip().split(\"|\")\n",
    "    if not nodes.get(head):\n",
    "        nodes[head] = len(nodes)\n",
    "    if not nodes.get(tail):\n",
    "        nodes[tail] = len(nodes)\n",
    "\n",
    "idx2node=[x[0] for x in sorted(nodes.items(), key=lambda x: x[1])]\n",
    "\n",
    "edges = [(nodes[rl.strip().split(\"|\")[1]],nodes[rl.strip().split(\"|\")[2]]) for rl in uni_relations]\n",
    "\n",
    "g = ig.Graph(n=len(nodes), edges=edges, directed=True)\n",
    "\n",
    "for i in range(len(g.vs)):\n",
    "    g.vs[i][\"cid\"] = idx2node[i]\n",
    "    g.vs[i][\"name\"] = concept2term[idx2node[i]][0]['STR']"
   ]
  },
  {
   "cell_type": "code",
   "execution_count": 9,
   "metadata": {},
   "outputs": [
    {
     "data": {
      "text/plain": [
       "igraph.Vertex(<igraph.Graph object at 0x146e259d7640>, 100, {'name': 'fusion gene protein', 'cid': 'CN10802400'})"
      ]
     },
     "execution_count": 9,
     "metadata": {},
     "output_type": "execute_result"
    }
   ],
   "source": [
    "g.vs[100]"
   ]
  },
  {
   "cell_type": "code",
   "execution_count": 10,
   "metadata": {},
   "outputs": [
    {
     "name": "stdout",
     "output_type": "stream",
     "text": [
      "len(components):  25377\n",
      "largest components size:  13643890\n",
      "len(bridges):  4542692\n"
     ]
    }
   ],
   "source": [
    "components = g.connected_components(mode='weak')\n",
    "print('len(components): ', len(components))\n",
    "\n",
    "subg = g.subgraph(max(components, key=len))\n",
    "print('largest components size: ', len(max(components, key=len)))\n",
    "\n",
    "bridges = subg.bridges()\n",
    "print('len(bridges): ', len(bridges))"
   ]
  },
  {
   "cell_type": "code",
   "execution_count": 55,
   "metadata": {},
   "outputs": [],
   "source": [
    "rank = subg.pagerank(directed=True, damping=0.85, )\n",
    "sorted_indices = sorted(range(len(rank)), key=lambda i: rank[i], reverse=True)"
   ]
  },
  {
   "cell_type": "code",
   "execution_count": 68,
   "metadata": {},
   "outputs": [
    {
     "name": "stdout",
     "output_type": "stream",
     "text": [
      "Rank: 1, Score: 0.2096, Node: organic compound\n",
      "Rank: 2, Score: 0.0380, Node: amino acid, peptide, or protein\n",
      "Rank: 3, Score: 0.0325, Node: medication dose\n",
      "Rank: 4, Score: 0.0289, Node: inorganic chemical\n",
      "Rank: 5, Score: 0.0246, Node: bacterial organism\n",
      "Rank: 6, Score: 0.0234, Node: class mammalia\n",
      "Rank: 7, Score: 0.0156, Node: biologic active agents\n",
      "Rank: 8, Score: 0.0124, Node: viral agent\n",
      "Rank: 9, Score: 0.0087, Node: immunotherapic agent\n",
      "Rank: 10, Score: 0.0085, Node: biomedical or dental material\n",
      "Rank: 11, Score: 0.0064, Node: nucleic acid, nucleoside, or nucleotide\n",
      "Rank: 12, Score: 0.0060, Node: enzyme\n",
      "Rank: 13, Score: 0.0058, Node: hazardous or poisonous substance\n",
      "Rank: 14, Score: 0.0054, Node: indicator, reagent, or diagnostic aid\n",
      "Rank: 15, Score: 0.0033, Node: anti microbial agents\n",
      "Rank: 16, Score: 0.0030, Node: drugtherapy\n",
      "Rank: 17, Score: 0.0029, Node: vitamin\n",
      "Rank: 18, Score: 0.0026, Node: ror receptor\n",
      "Rank: 19, Score: 0.0024, Node: eosinophil gastroenteritis\n",
      "Rank: 20, Score: 0.0023, Node: gastic cancer\n",
      "Rank: 21, Score: 0.0023, Node: crohn's disease\n",
      "Rank: 22, Score: 0.0023, Node: plaque psoriasis\n",
      "Rank: 23, Score: 0.0022, Node: arthritis psoriatica\n",
      "Rank: 24, Score: 0.0022, Node: pediatric crohn's disease\n",
      "Rank: 25, Score: 0.0020, Node: physical illness\n",
      "Rank: 26, Score: 0.0019, Node: biological macromolecule\n",
      "Rank: 27, Score: 0.0019, Node: cancerogenic agents\n",
      "Rank: 28, Score: 0.0017, Node: fungal mycelium\n",
      "Rank: 29, Score: 0.0016, Node: therapeutic device\n",
      "Rank: 30, Score: 0.0016, Node: anatomic structures\n",
      "Rank: 31, Score: 0.0015, Node: immune-system proteins\n",
      "Rank: 32, Score: 0.0015, Node: class aves\n",
      "Rank: 33, Score: 0.0013, Node: antitumor antibody\n",
      "Rank: 34, Score: 0.0013, Node: dermatological lesion\n",
      "Rank: 35, Score: 0.0013, Node: antineoplastic enzyme inhibitor\n",
      "Rank: 36, Score: 0.0012, Node: medical problem\n",
      "Rank: 37, Score: 0.0012, Node: carcinomatous tumor\n",
      "Rank: 38, Score: 0.0011, Node: physiological processes\n",
      "Rank: 39, Score: 0.0011, Node: tumor progression\n",
      "Rank: 40, Score: 0.0010, Node: anatomic parts\n",
      "Rank: 41, Score: 0.0010, Node: fish technique\n",
      "Rank: 42, Score: 0.0010, Node: oncological illness\n",
      "Rank: 43, Score: 0.0009, Node: clinical drug\n",
      "Rank: 44, Score: 0.0009, Node: biochemical phenomenon\n",
      "Rank: 45, Score: 0.0009, Node: alimentary diseases\n",
      "Rank: 46, Score: 0.0009, Node: adjunctive therapy\n",
      "Rank: 47, Score: 0.0009, Node: dermatologic disorder\n",
      "Rank: 48, Score: 0.0009, Node: element, ion, or isotope\n",
      "Rank: 49, Score: 0.0009, Node: device component\n",
      "Rank: 50, Score: 0.0008, Node: enzyme product\n",
      "Rank: 51, Score: 0.0008, Node: inflammatory disorder\n",
      "Rank: 52, Score: 0.0008, Node: physical phenomena\n",
      "Rank: 53, Score: 0.0008, Node: inflammatory swelling\n",
      "Rank: 54, Score: 0.0007, Node: musculoskeletal disease\n",
      "Rank: 55, Score: 0.0007, Node: traumatisme\n",
      "Rank: 56, Score: 0.0007, Node: hormone agent\n",
      "Rank: 57, Score: 0.0007, Node: surgical devices\n",
      "Rank: 58, Score: 0.0006, Node: infective fever\n",
      "Rank: 59, Score: 0.0006, Node: soft tissue lesion\n",
      "Rank: 60, Score: 0.0006, Node: body system\n",
      "Rank: 61, Score: 0.0006, Node: treatment complication\n",
      "Rank: 62, Score: 0.0006, Node: food and food product\n",
      "Rank: 63, Score: 0.0005, Node: malignant primary neoplasms\n",
      "Rank: 64, Score: 0.0005, Node: medicament allergens\n",
      "Rank: 65, Score: 0.0005, Node: laboratory examination\n",
      "Rank: 66, Score: 0.0005, Node: adverse event outcomes\n",
      "Rank: 67, Score: 0.0005, Node: medical examination\n",
      "Rank: 68, Score: 0.0005, Node: modulator gene\n",
      "Rank: 69, Score: 0.0005, Node: molecular genetics technique\n",
      "Rank: 70, Score: 0.0005, Node: industrial product\n",
      "Rank: 71, Score: 0.0005, Node: regulatory protein\n",
      "Rank: 72, Score: 0.0005, Node: subcellular process\n",
      "Rank: 73, Score: 0.0005, Node: immunological procedures\n",
      "Rank: 74, Score: 0.0005, Node: digestive system symptoms\n",
      "Rank: 75, Score: 0.0004, Node: female reproductive diseases\n",
      "Rank: 76, Score: 0.0004, Node: breast cancer cell\n",
      "Rank: 77, Score: 0.0004, Node: traumatic brain injury\n",
      "Rank: 78, Score: 0.0004, Node: symport proteins\n",
      "Rank: 79, Score: 0.0004, Node: transcription-regulating proteins\n",
      "Rank: 80, Score: 0.0004, Node: skin and subcutaneous illness\n",
      "Rank: 81, Score: 0.0004, Node: nonspecific enteritis\n",
      "Rank: 82, Score: 0.0004, Node: transcript factor genes\n",
      "Rank: 83, Score: 0.0004, Node: cultured cell line\n",
      "Rank: 84, Score: 0.0004, Node: medical instruments\n",
      "Rank: 85, Score: 0.0004, Node: neurological system\n",
      "Rank: 86, Score: 0.0004, Node: enzyme-inhibiting agents\n",
      "Rank: 87, Score: 0.0004, Node: degenerative disease\n",
      "Rank: 88, Score: 0.0004, Node: skin observation\n",
      "Rank: 89, Score: 0.0004, Node: benign tumors\n",
      "Rank: 90, Score: 0.0004, Node: autosomal recessive hereditary diseases\n",
      "Rank: 91, Score: 0.0004, Node: organ component\n",
      "Rank: 92, Score: 0.0004, Node: body tissues\n",
      "Rank: 93, Score: 0.0004, Node: amblyopia\n",
      "Rank: 94, Score: 0.0004, Node: tcf transcription factor\n",
      "Rank: 95, Score: 0.0004, Node: central nervous systems\n",
      "Rank: 96, Score: 0.0004, Node: reproductive disorder\n",
      "Rank: 97, Score: 0.0004, Node: tracheophyta\n",
      "Rank: 98, Score: 0.0004, Node: primary cilia dyskinesia\n",
      "Rank: 99, Score: 0.0004, Node: antitumor antibiotics\n",
      "Rank: 100, Score: 0.0004, Node: nup protein\n"
     ]
    }
   ],
   "source": [
    "for i in range(100):\n",
    "    print('Rank: %d, Score: %.4f, Node: %s' % (i+1, rank[sorted_indices[i]], subg.vs[sorted_indices[i]]['name']))"
   ]
  },
  {
   "cell_type": "code",
   "execution_count": 56,
   "metadata": {},
   "outputs": [
    {
     "data": {
      "text/plain": [
       "[140, 9013429, 118, 4921, 1131, 1966, 7341, 10167, 73, 9013430]"
      ]
     },
     "execution_count": 56,
     "metadata": {},
     "output_type": "execute_result"
    }
   ],
   "source": [
    "sorted_indices[:10]"
   ]
  },
  {
   "cell_type": "code",
   "execution_count": 72,
   "metadata": {},
   "outputs": [
    {
     "data": {
      "text/plain": [
       "<Axes: >"
      ]
     },
     "execution_count": 72,
     "metadata": {},
     "output_type": "execute_result"
    },
    {
     "data": {
      "image/png": "[encoded data removed]",
      "text/plain": [
       "<Figure size 640x480 with 1 Axes>"
      ]
     },
     "metadata": {},
     "output_type": "display_data"
    }
   ],
   "source": [
    "fig, ax = plt.subplots()\n",
    "vipg = subg.subgraph(sorted_indices[:10])\n",
    "\n",
    "visual_style = {}\n",
    "visual_style[\"vertex_label\"] = vipg.vs[\"name\"]\n",
    "visual_style[\"layout\"] = vipg.layout(\"kk\")\n",
    "visual_style[\"target\"] = ax\n",
    "ig.plot(\n",
    "    vipg,\n",
    "    **visual_style,\n",
    ")"
   ]
  }
 ],
 "metadata": {
  "kernelspec": {
   "display_name": "hug42",
   "language": "python",
   "name": "python3"
  },
  "language_info": {
   "codemirror_mode": {
    "name": "ipython",
    "version": 3
   },
   "file_extension": ".py",
   "mimetype": "text/x-python",
   "name": "python",
   "nbconvert_exporter": "python",
   "pygments_lexer": "ipython3",
   "version": "3.9.16"
  },
  "orig_nbformat": 4
 },
 "nbformat": 4,
 "nbformat_minor": 2
}
