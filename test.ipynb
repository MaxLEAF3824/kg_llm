{
 "cells": [
  {
   "cell_type": "code",
   "execution_count": 2,
   "metadata": {},
   "outputs": [
    {
     "name": "stdout",
     "output_type": "stream",
     "text": [
      "rouge_score:  [{'rouge-1': {'r': 0.5714285714285714, 'p': 0.6666666666666666, 'f': 0.6153846104142012}, 'rouge-2': {'r': 0.3333333333333333, 'p': 0.4, 'f': 0.36363635867768596}, 'rouge-l': {'r': 0.5714285714285714, 'p': 0.6666666666666666, 'f': 0.6153846104142012}}]\n",
      "{'r': 0.5714285714285714, 'p': 0.6666666666666666, 'f': 0.6153846104142012}\n",
      "{'r': 0.3333333333333333, 'p': 0.4, 'f': 0.36363635867768596}\n",
      "{'r': 0.5714285714285714, 'p': 0.6666666666666666, 'f': 0.6153846104142012}\n"
     ]
    }
   ],
   "source": [
    "from rouge import Rouge\n",
    "a = [\"i am a student from china\"]  # 预测摘要 （可以是列表也可以是句子）\n",
    "b = [\"i am student from school on japan\"] #真实摘要\n",
    " \n",
    "'''\n",
    "f:F1值  p：查准率  R：召回率\n",
    "'''\n",
    "rouge = Rouge()\n",
    "rouge_score = rouge.get_scores(a, b)\n",
    "print('rouge_score: ', rouge_score)\n",
    "print(rouge_score[0][\"rouge-1\"])\n",
    "print(rouge_score[0][\"rouge-2\"])\n",
    "print(rouge_score[0][\"rouge-l\"])"
   ]
  },
  {
   "cell_type": "code",
   "execution_count": 6,
   "metadata": {},
   "outputs": [],
   "source": [
    "import json\n",
    "\n",
    "usmle_test = json.load(open('/home/cs/yangyuchen/yushengliao/Medical_LLM/data/USMLEdataset/data_clean/questions/US/test.json'))\n",
    "ins_usmle_test = [{\"input\":d['question']+ \" Options: \" + ', '.join([i.strip()+': '+o.strip() for (i,o) in d['options'].items()]),\"output\":d['answer'].strip()} for d in usmle_test]\n",
    "json.dump(ins_usmle_test, open('data/usmle_test.json','w'), indent=4)"
   ]
  },
  {
   "cell_type": "code",
   "execution_count": 16,
   "metadata": {},
   "outputs": [
    {
     "name": "stdout",
     "output_type": "stream",
     "text": [
      "4183\n"
     ]
    }
   ],
   "source": [
    "import jsonlines\n",
    "\n",
    "medmcqa_dev = list(jsonlines.open('/home/cs/yangyuchen/guoyiqiu/kg_llm/data/medmcqa/dev.json'))\n",
    "ins_medmcqa_dev = []\n",
    "for d in medmcqa_dev:\n",
    "    question = d['question'].strip()\n",
    "    options = ' Options:' + ', '.join([f\"{v}: {d[k]}\" for k,v in [('opa','A'),('opb','B'),('opc','C'),('opd','D')]])\n",
    "    gt = ['A','B','C','D'][int(d['cop']-1)]\n",
    "    ins_medmcqa_dev.append(dict(input=question+options,output=gt))\n",
    "json.dump(ins_medmcqa_dev, open('data/medmcqa_dev.json','w'), indent=4)\n",
    "print(len(ins_medmcqa_dev))"
   ]
  }
 ],
 "metadata": {
  "kernelspec": {
   "display_name": "med_llm_gyq",
   "language": "python",
   "name": "python3"
  },
  "language_info": {
   "codemirror_mode": {
    "name": "ipython",
    "version": 3
   },
   "file_extension": ".py",
   "mimetype": "text/x-python",
   "name": "python",
   "nbconvert_exporter": "python",
   "pygments_lexer": "ipython3",
   "version": "3.9.16"
  },
  "orig_nbformat": 4
 },
 "nbformat": 4,
 "nbformat_minor": 2
}
